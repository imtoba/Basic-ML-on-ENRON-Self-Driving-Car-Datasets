{
 "cells": [
  {
   "cell_type": "code",
   "execution_count": 1,
   "metadata": {
    "collapsed": true
   },
   "outputs": [],
   "source": [
    "## QZ 9"
   ]
  },
  {
   "cell_type": "code",
   "execution_count": 2,
   "metadata": {
    "collapsed": true
   },
   "outputs": [],
   "source": [
    "from nltk.corpus import stopwords"
   ]
  },
  {
   "cell_type": "code",
   "execution_count": 3,
   "metadata": {
    "collapsed": true
   },
   "outputs": [],
   "source": [
    "sw=stopwords.words(\"english\")"
   ]
  },
  {
   "cell_type": "markdown",
   "metadata": {},
   "source": [
    "## Resource u'corpora/stopwords' not found.  Please use the NLTK Downloader to obtain the resource:  >>> nltk.download()\n",
    "  Searched in:\n",
    "    - '/home/playstation/nltk_data'\n",
    "    - '/usr/share/nltk_data'\n",
    "    - '/usr/local/share/nltk_data'\n",
    "    - '/usr/lib/nltk_data'\n",
    "    - '/usr/local/lib/nltk_data'\n",
    "# Make sure to import nltk first"
   ]
  },
  {
   "cell_type": "code",
   "execution_count": 4,
   "metadata": {},
   "outputs": [
    {
     "name": "stdout",
     "output_type": "stream",
     "text": [
      "showing info https://raw.githubusercontent.com/nltk/nltk_data/gh-pages/index.xml\n"
     ]
    },
    {
     "data": {
      "text/plain": [
       "True"
      ]
     },
     "execution_count": 4,
     "metadata": {},
     "output_type": "execute_result"
    }
   ],
   "source": [
    "import nltk\n",
    "nltk.download()"
   ]
  },
  {
   "cell_type": "code",
   "execution_count": 10,
   "metadata": {
    "collapsed": true
   },
   "outputs": [],
   "source": [
    "import nltk\n",
    "sw=stopwords.words(\"english\")"
   ]
  },
  {
   "cell_type": "code",
   "execution_count": 11,
   "metadata": {},
   "outputs": [
    {
     "data": {
      "text/plain": [
       "153"
      ]
     },
     "execution_count": 11,
     "metadata": {},
     "output_type": "execute_result"
    }
   ],
   "source": [
    "len(sw)"
   ]
  },
  {
   "cell_type": "code",
   "execution_count": null,
   "metadata": {
    "collapsed": true
   },
   "outputs": [],
   "source": []
  },
  {
   "cell_type": "code",
   "execution_count": null,
   "metadata": {
    "collapsed": true
   },
   "outputs": [],
   "source": []
  },
  {
   "cell_type": "code",
   "execution_count": null,
   "metadata": {
    "collapsed": true
   },
   "outputs": [],
   "source": []
  },
  {
   "cell_type": "markdown",
   "metadata": {},
   "source": [
    "## ParseOutText() Quiz"
   ]
  },
  {
   "cell_type": "code",
   "execution_count": 12,
   "metadata": {},
   "outputs": [
    {
     "name": "stdout",
     "output_type": "stream",
     "text": [
      "\n",
      "\n",
      "Hi Everyone  If you can read this message youre properly using parseOutText  Please proceed to the next part of the project\n",
      "\n"
     ]
    }
   ],
   "source": [
    "#!/usr/bin/python\n",
    "\n",
    "from nltk.stem.snowball import SnowballStemmer\n",
    "import string\n",
    "\n",
    "def parseOutText(f):\n",
    "    \"\"\" given an opened email file f, parse out all text below the\n",
    "        metadata block at the top\n",
    "        (in Part 2, you will also add stemming capabilities)\n",
    "        and return a string that contains all the words\n",
    "        in the email (space-separated) \n",
    "        \n",
    "        example use case:\n",
    "        f = open(\"email_file_name.txt\", \"r\")\n",
    "        text = parseOutText(f)\n",
    "        \n",
    "        \"\"\"\n",
    "\n",
    "\n",
    "    f.seek(0)  ### go back to beginning of file (annoying)\n",
    "    all_text = f.read()\n",
    "\n",
    "    ### split off metadata\n",
    "    content = all_text.split(\"X-FileName:\")\n",
    "    words = \"\"\n",
    "    if len(content) > 1:\n",
    "        ### remove punctuation\n",
    "        text_string = content[1].translate(string.maketrans(\"\", \"\"), string.punctuation)\n",
    "\n",
    "        ### project part 2: comment out the line below\n",
    "        words = text_string\n",
    "\n",
    "        ### split the text string into individual words, stem each word,\n",
    "        ### and append the stemmed word to words (make sure there's a single\n",
    "        ### space between each stemmed word)\n",
    "        \n",
    "\n",
    "\n",
    "\n",
    "\n",
    "    return words\n",
    "\n",
    "    \n",
    "\n",
    "def main():\n",
    "    ff = open(\"../text_learning/test_email.txt\", \"r\")\n",
    "    text = parseOutText(ff)\n",
    "    print text\n",
    "\n",
    "\n",
    "\n",
    "if __name__ == '__main__':\n",
    "    main()\n",
    "\n"
   ]
  },
  {
   "cell_type": "markdown",
   "metadata": {},
   "source": [
    "## commenting out \"words=... \" line"
   ]
  },
  {
   "cell_type": "code",
   "execution_count": 13,
   "metadata": {},
   "outputs": [
    {
     "name": "stdout",
     "output_type": "stream",
     "text": [
      "hi everyon if you can read this messag your proper use parseouttext pleas proceed to the next part of the project \n"
     ]
    }
   ],
   "source": [
    "#!/usr/bin/python\n",
    "\n",
    "from nltk.stem.snowball import SnowballStemmer\n",
    "import string\n",
    "stemmer=SnowballStemmer(\"english\")\n",
    "def parseOutText(f):\n",
    "    \"\"\" given an opened email file f, parse out all text below the\n",
    "        metadata block at the top\n",
    "        (in Part 2, you will also add stemming capabilities)\n",
    "        and return a string that contains all the words\n",
    "        in the email (space-separated) \n",
    "        \n",
    "        example use case:\n",
    "        f = open(\"email_file_name.txt\", \"r\")\n",
    "        text = parseOutText(f)\n",
    "        \n",
    "        \"\"\"\n",
    "\n",
    "\n",
    "    f.seek(0)  ### go back to beginning of file (annoying)\n",
    "    all_text = f.read()\n",
    "\n",
    "    ### split off metadata\n",
    "    content = all_text.split(\"X-FileName:\")\n",
    "    words = \"\"\n",
    "    if len(content) > 1:\n",
    "        ### remove punctuation\n",
    "        text_string = content[1].translate(string.maketrans(\"\", \"\"), string.punctuation)\n",
    "\n",
    "        ### project part 2: comment out the line below\n",
    "       # words = text_string\n",
    "\n",
    "        ### split the text string into individual words, stem each word,\n",
    "        ### and append the stemmed word to words (make sure there's a single\n",
    "        ### space between each stemmed word)\n",
    "        \n",
    "        #w=\n",
    "        splitwords=text_string.split()\n",
    "        stemwords=[0]*len(splitwords)\n",
    "        j=0\n",
    "        for i in splitwords :\n",
    "            words= words + stemmer.stem(i) + \" \"\n",
    "            \n",
    "\n",
    "\n",
    "    return words\n",
    "\n",
    "    \n",
    "\n",
    "def main():\n",
    "    ff = open(\"../text_learning/test_email.txt\", \"r\")\n",
    "    text = parseOutText(ff)\n",
    "    print text\n",
    "\n",
    "\n",
    "\n",
    "if __name__ == '__main__':\n",
    "    main()\n",
    "\n"
   ]
  },
  {
   "cell_type": "markdown",
   "metadata": {},
   "source": [
    "\n",
    "## Learnin Begins!"
   ]
  },
  {
   "cell_type": "code",
   "execution_count": 14,
   "metadata": {},
   "outputs": [
    {
     "ename": "NameError",
     "evalue": "name 'all_text' is not defined",
     "output_type": "error",
     "traceback": [
      "\u001b[0;31m---------------------------------------------------------------------------\u001b[0m",
      "\u001b[0;31mNameError\u001b[0m                                 Traceback (most recent call last)",
      "\u001b[0;32m<ipython-input-14-542e0835c48d>\u001b[0m in \u001b[0;36m<module>\u001b[0;34m()\u001b[0m\n\u001b[0;32m----> 1\u001b[0;31m \u001b[0mall_text\u001b[0m\u001b[0;34m\u001b[0m\u001b[0m\n\u001b[0m",
      "\u001b[0;31mNameError\u001b[0m: name 'all_text' is not defined"
     ]
    }
   ],
   "source": [
    "all_text"
   ]
  },
  {
   "cell_type": "code",
   "execution_count": 15,
   "metadata": {
    "collapsed": true
   },
   "outputs": [],
   "source": [
    "t=\"helo there i'm  working on responsiveness and unresponsiveness and responsful siraj raval has worked on sightedness Let's spreading this AI powerful!\""
   ]
  },
  {
   "cell_type": "code",
   "execution_count": 16,
   "metadata": {},
   "outputs": [
    {
     "data": {
      "text/plain": [
       "\"helo there i'm  working on responsiveness and unresponsiveness and responsful siraj raval has worked on sightedness Let's spreading this AI powerful!\""
      ]
     },
     "execution_count": 16,
     "metadata": {},
     "output_type": "execute_result"
    }
   ],
   "source": [
    "t"
   ]
  },
  {
   "cell_type": "code",
   "execution_count": 17,
   "metadata": {
    "collapsed": true
   },
   "outputs": [],
   "source": [
    "q=t.split()"
   ]
  },
  {
   "cell_type": "code",
   "execution_count": 18,
   "metadata": {},
   "outputs": [
    {
     "data": {
      "text/plain": [
       "['helo',\n",
       " 'there',\n",
       " \"i'm\",\n",
       " 'working',\n",
       " 'on',\n",
       " 'responsiveness',\n",
       " 'and',\n",
       " 'unresponsiveness',\n",
       " 'and',\n",
       " 'responsful',\n",
       " 'siraj',\n",
       " 'raval',\n",
       " 'has',\n",
       " 'worked',\n",
       " 'on',\n",
       " 'sightedness',\n",
       " \"Let's\",\n",
       " 'spreading',\n",
       " 'this',\n",
       " 'AI',\n",
       " 'powerful!']"
      ]
     },
     "execution_count": 18,
     "metadata": {},
     "output_type": "execute_result"
    }
   ],
   "source": [
    "q"
   ]
  },
  {
   "cell_type": "code",
   "execution_count": null,
   "metadata": {
    "collapsed": true
   },
   "outputs": [],
   "source": []
  },
  {
   "cell_type": "code",
   "execution_count": 19,
   "metadata": {
    "collapsed": true
   },
   "outputs": [],
   "source": [
    "from nltk.stem.snowball import SnowballStemmer"
   ]
  },
  {
   "cell_type": "code",
   "execution_count": 20,
   "metadata": {
    "collapsed": true
   },
   "outputs": [],
   "source": [
    "stemmer=SnowballStemmer(\"english\")"
   ]
  },
  {
   "cell_type": "code",
   "execution_count": 21,
   "metadata": {
    "collapsed": true
   },
   "outputs": [],
   "source": [
    "sw=[0]*len(q)\n",
    "wo=\"\"\n",
    "j=0\n",
    "for i in q :\n",
    "    #print i\n",
    "    wo=wo+stemmer.stem(i)+\" \"\n",
    "    "
   ]
  },
  {
   "cell_type": "code",
   "execution_count": 22,
   "metadata": {},
   "outputs": [
    {
     "data": {
      "text/plain": [
       "u\"helo there i'm work on respons and unrespons and respons siraj raval has work on sighted let spread this ai powerful! \""
      ]
     },
     "execution_count": 22,
     "metadata": {},
     "output_type": "execute_result"
    }
   ],
   "source": [
    "wo"
   ]
  },
  {
   "cell_type": "markdown",
   "metadata": {},
   "source": [
    "## Learnt a bit!"
   ]
  },
  {
   "cell_type": "code",
   "execution_count": 23,
   "metadata": {},
   "outputs": [
    {
     "name": "stdout",
     "output_type": "stream",
     "text": [
      "../maildir/bailey-s/deleted_items/101.\n",
      "../maildir/bailey-s/deleted_items/106.\n",
      "../maildir/bailey-s/deleted_items/132.\n",
      "../maildir/bailey-s/deleted_items/185.\n",
      "../maildir/bailey-s/deleted_items/186.\n",
      "../maildir/bailey-s/deleted_items/187.\n",
      "../maildir/bailey-s/deleted_items/193.\n",
      "../maildir/bailey-s/deleted_items/195.\n",
      "../maildir/bailey-s/deleted_items/214.\n",
      "../maildir/bailey-s/deleted_items/215.\n",
      "../maildir/bailey-s/deleted_items/233.\n",
      "../maildir/bailey-s/deleted_items/242.\n",
      "../maildir/bailey-s/deleted_items/243.\n",
      "../maildir/bailey-s/deleted_items/244.\n",
      "../maildir/bailey-s/deleted_items/246.\n",
      "../maildir/bailey-s/deleted_items/247.\n",
      "../maildir/bailey-s/deleted_items/254.\n",
      "../maildir/bailey-s/deleted_items/259.\n",
      "../maildir/bailey-s/deleted_items/260.\n",
      "../maildir/bailey-s/deleted_items/261.\n",
      "../maildir/bailey-s/deleted_items/263.\n",
      "../maildir/bailey-s/deleted_items/278.\n",
      "../maildir/bailey-s/deleted_items/290.\n",
      "../maildir/bailey-s/deleted_items/296.\n",
      "../maildir/bailey-s/deleted_items/302.\n",
      "../maildir/bailey-s/deleted_items/306.\n",
      "../maildir/bailey-s/deleted_items/307.\n",
      "../maildir/bailey-s/deleted_items/317.\n",
      "../maildir/bailey-s/deleted_items/320.\n",
      "../maildir/bailey-s/deleted_items/335.\n",
      "../maildir/bailey-s/deleted_items/70.\n",
      "../maildir/heard-m/brokerage_agreements/1.\n",
      "../maildir/heard-m/brokerage_agreements/16.\n",
      "../maildir/heard-m/brokerage_agreements/17.\n",
      "../maildir/heard-m/brokerage_agreements/2.\n",
      "../maildir/heard-m/brokerage_agreements/24.\n",
      "../maildir/heard-m/brokerage_agreements/26.\n",
      "../maildir/heard-m/brokerage_agreements/27.\n",
      "../maildir/heard-m/brokerage_agreements/33.\n",
      "../maildir/heard-m/brokerage_agreements/35.\n",
      "../maildir/heard-m/brokerage_agreements/36.\n",
      "../maildir/heard-m/brokerage_agreements/4.\n",
      "../maildir/heard-m/brokerage_agreements/52.\n",
      "../maildir/heard-m/brokerage_agreements/73.\n",
      "../maildir/heard-m/brokerage_agreements/8.\n",
      "../maildir/heard-m/brokerage_agreements/87.\n",
      "../maildir/heard-m/deleted_items/122.\n",
      "../maildir/heard-m/deleted_items/134.\n",
      "../maildir/heard-m/deleted_items/38.\n",
      "../maildir/heard-m/deleted_items/48.\n",
      "../maildir/heard-m/deleted_items/49.\n",
      "../maildir/heard-m/deleted_items/50.\n",
      "../maildir/heard-m/deleted_items/60.\n",
      "../maildir/heard-m/deleted_items/66.\n",
      "../maildir/heard-m/deleted_items/71.\n",
      "../maildir/heard-m/deleted_items/79.\n",
      "../maildir/heard-m/inbox/102.\n",
      "../maildir/heard-m/inbox/104.\n",
      "../maildir/heard-m/inbox/105.\n",
      "../maildir/heard-m/inbox/106.\n",
      "../maildir/heard-m/inbox/112.\n",
      "../maildir/heard-m/inbox/133.\n",
      "../maildir/heard-m/inbox/160.\n",
      "../maildir/heard-m/inbox/161.\n",
      "../maildir/heard-m/inbox/166.\n",
      "../maildir/heard-m/inbox/177.\n",
      "../maildir/heard-m/inbox/182.\n",
      "../maildir/heard-m/inbox/19.\n",
      "../maildir/heard-m/inbox/21.\n",
      "../maildir/heard-m/inbox/22.\n",
      "../maildir/heard-m/inbox/23.\n",
      "../maildir/heard-m/inbox/26.\n",
      "../maildir/heard-m/inbox/275.\n",
      "../maildir/heard-m/inbox/34.\n",
      "../maildir/heard-m/inbox/35.\n",
      "../maildir/heard-m/inbox/41.\n",
      "../maildir/heard-m/inbox/48.\n",
      "../maildir/heard-m/inbox/67.\n",
      "../maildir/heard-m/inbox/69.\n",
      "../maildir/heard-m/inbox/76.\n",
      "../maildir/hodge-j/deleted_items/206.\n",
      "../maildir/hodge-j/inbox/436.\n",
      "../maildir/jones-t/all_documents/10126.\n",
      "../maildir/jones-t/all_documents/10138.\n",
      "../maildir/jones-t/all_documents/10347.\n",
      "../maildir/jones-t/all_documents/10602.\n",
      "../maildir/jones-t/all_documents/10865.\n",
      "../maildir/jones-t/all_documents/10946.\n",
      "../maildir/jones-t/all_documents/11004.\n",
      "../maildir/jones-t/all_documents/11404.\n",
      "../maildir/jones-t/all_documents/11696.\n",
      "../maildir/jones-t/all_documents/11799.\n",
      "../maildir/jones-t/all_documents/12130.\n",
      "../maildir/jones-t/all_documents/12231.\n",
      "../maildir/jones-t/all_documents/1238.\n",
      "../maildir/jones-t/all_documents/1334.\n",
      "../maildir/jones-t/all_documents/1373.\n",
      "../maildir/jones-t/all_documents/1397.\n",
      "../maildir/jones-t/all_documents/1465.\n",
      "../maildir/jones-t/all_documents/1469.\n",
      "../maildir/jones-t/all_documents/1534.\n",
      "../maildir/jones-t/all_documents/1566.\n",
      "../maildir/jones-t/all_documents/1607.\n",
      "../maildir/jones-t/all_documents/1608.\n",
      "../maildir/jones-t/all_documents/1661.\n",
      "../maildir/jones-t/all_documents/1693.\n",
      "../maildir/jones-t/all_documents/1727.\n",
      "../maildir/jones-t/all_documents/1746.\n",
      "../maildir/jones-t/all_documents/1760.\n",
      "../maildir/jones-t/all_documents/1848.\n",
      "../maildir/jones-t/all_documents/1936.\n",
      "../maildir/jones-t/all_documents/1970.\n",
      "../maildir/jones-t/all_documents/1976.\n",
      "../maildir/jones-t/all_documents/2035.\n",
      "../maildir/jones-t/all_documents/2091.\n",
      "../maildir/jones-t/all_documents/2117.\n",
      "../maildir/jones-t/all_documents/2172.\n",
      "../maildir/jones-t/all_documents/2189.\n",
      "../maildir/jones-t/all_documents/2205.\n",
      "../maildir/jones-t/all_documents/2313.\n",
      "../maildir/jones-t/all_documents/2316.\n",
      "../maildir/jones-t/all_documents/2344.\n",
      "../maildir/jones-t/all_documents/2448.\n",
      "../maildir/jones-t/all_documents/2759.\n",
      "../maildir/jones-t/all_documents/2798.\n",
      "../maildir/jones-t/all_documents/2827.\n",
      "../maildir/jones-t/all_documents/2847.\n",
      "../maildir/jones-t/all_documents/2859.\n",
      "../maildir/jones-t/all_documents/2910.\n",
      "../maildir/jones-t/all_documents/2983.\n",
      "../maildir/jones-t/all_documents/3028.\n",
      "../maildir/jones-t/all_documents/3058.\n",
      "../maildir/jones-t/all_documents/3081.\n",
      "../maildir/jones-t/all_documents/3101.\n",
      "../maildir/jones-t/all_documents/3321.\n",
      "../maildir/jones-t/all_documents/3333.\n",
      "../maildir/jones-t/all_documents/3362.\n",
      "../maildir/jones-t/all_documents/3642.\n",
      "../maildir/jones-t/all_documents/3794.\n",
      "../maildir/jones-t/all_documents/3816.\n",
      "../maildir/jones-t/all_documents/3829.\n",
      "../maildir/jones-t/all_documents/3840.\n",
      "../maildir/jones-t/all_documents/3841.\n",
      "../maildir/jones-t/all_documents/3857.\n",
      "../maildir/jones-t/all_documents/3858.\n",
      "../maildir/jones-t/all_documents/3873.\n",
      "../maildir/jones-t/all_documents/3921.\n",
      "../maildir/jones-t/all_documents/3961.\n",
      "../maildir/jones-t/all_documents/3973.\n",
      "../maildir/jones-t/all_documents/3993.\n",
      "../maildir/jones-t/all_documents/3997.\n",
      "../maildir/jones-t/all_documents/4046.\n",
      "../maildir/jones-t/all_documents/4056.\n",
      "../maildir/jones-t/all_documents/4136.\n",
      "../maildir/jones-t/all_documents/4161.\n",
      "../maildir/jones-t/all_documents/4212.\n",
      "../maildir/jones-t/all_documents/4244.\n",
      "../maildir/jones-t/all_documents/4249.\n",
      "../maildir/jones-t/all_documents/4251.\n",
      "../maildir/jones-t/all_documents/4255.\n",
      "../maildir/jones-t/all_documents/4496.\n",
      "../maildir/jones-t/all_documents/4650.\n",
      "../maildir/jones-t/all_documents/4654.\n",
      "../maildir/jones-t/all_documents/4710.\n",
      "../maildir/jones-t/all_documents/4741.\n",
      "../maildir/jones-t/all_documents/4743.\n",
      "../maildir/jones-t/all_documents/4757.\n",
      "../maildir/jones-t/all_documents/4819.\n",
      "../maildir/jones-t/all_documents/4895.\n",
      "../maildir/jones-t/all_documents/4938.\n",
      "../maildir/jones-t/all_documents/4968.\n",
      "../maildir/jones-t/all_documents/5035.\n",
      "../maildir/jones-t/all_documents/5055.\n",
      "../maildir/jones-t/all_documents/5063.\n",
      "../maildir/jones-t/all_documents/5419.\n",
      "../maildir/jones-t/all_documents/5519.\n",
      "../maildir/jones-t/all_documents/5523.\n",
      "../maildir/jones-t/all_documents/5555.\n",
      "../maildir/jones-t/all_documents/5575.\n",
      "../maildir/jones-t/all_documents/5588.\n",
      "../maildir/jones-t/all_documents/5589.\n",
      "../maildir/jones-t/all_documents/5646.\n",
      "../maildir/jones-t/all_documents/5654.\n",
      "../maildir/jones-t/all_documents/5691.\n",
      "../maildir/jones-t/all_documents/5693.\n",
      "../maildir/jones-t/all_documents/5751.\n",
      "../maildir/jones-t/all_documents/5859.\n",
      "../maildir/jones-t/all_documents/5884.\n",
      "../maildir/jones-t/all_documents/5928.\n",
      "../maildir/jones-t/all_documents/5936.\n",
      "../maildir/jones-t/all_documents/5948.\n",
      "../maildir/jones-t/all_documents/9401.\n",
      "../maildir/jones-t/all_documents/9408.\n",
      "../maildir/jones-t/all_documents/9430.\n",
      "../maildir/jones-t/all_documents/9550.\n",
      "../maildir/jones-t/all_documents/9627.\n",
      "../maildir/jones-t/all_documents/9808.\n",
      "../maildir/jones-t/deleted_items/45.\n",
      "../maildir/jones-t/inbox/742.\n",
      "emails processed\n",
      "('the word at 152 is:', ' tjonesnsf\\r\\n\\r\\nStephanie and Sam need NYMEX calendars')\n"
     ]
    }
   ],
   "source": [
    "#!/usr/bin/python\n",
    "\n",
    "import os\n",
    "import pickle\n",
    "import re\n",
    "import sys\n",
    "\n",
    "sys.path.append( \"../tools/\" )\n",
    "from parse_out_email_text import parseOutText\n",
    "\n",
    "\"\"\"\n",
    "    Starter code to process the emails from Sara and Chris to extract\n",
    "    the features and get the documents ready for classification.\n",
    "\n",
    "    The list of all the emails from Sara are in the from_sara list\n",
    "    likewise for emails from Chris (from_chris)\n",
    "\n",
    "    The actual documents are in the Enron email dataset, which\n",
    "    you downloaded/unpacked in Part 0 of the first mini-project. If you have\n",
    "    not obtained the Enron email corpus, run startup.py in the tools folder.\n",
    "\n",
    "    The data is stored in lists and packed away in pickle files at the end.\n",
    "\"\"\"\n",
    "\n",
    "\n",
    "from_sara  = open(\"from_sara.txt\", \"r\")\n",
    "from_chris = open(\"from_chris.txt\", \"r\")\n",
    "\n",
    "from_data = []\n",
    "word_data = []\n",
    "\n",
    "### temp_counter is a way to speed up the development--there are\n",
    "### thousands of emails from Sara and Chris, so running over all of them\n",
    "### can take a long time\n",
    "### temp_counter helps you only look at the first 200 emails in the list so you\n",
    "### can iterate your modifications quicker\n",
    "temp_counter = 0\n",
    "\n",
    "\n",
    "for name, from_person in [(\"sara\", from_sara), (\"chris\", from_chris)]:\n",
    "    for path in from_person:\n",
    "        ### only look at first 200 emails when developing\n",
    "        ### once everything is working, remove this line to run over full dataset\n",
    "        temp_counter += 1\n",
    "        if temp_counter < 200:\n",
    "            path = os.path.join('..', path[:-1])\n",
    "            print path\n",
    "            email = open(path, \"r\")\n",
    "\n",
    "            ### use parseOutText to extract the text from the opened email\n",
    "            text=parseOutText(email)\n",
    "            ### use str.replace() to remove any instances of the words\n",
    "            replacewords= [\"sara\", \"shackleton\", \"chris\", \"germani\"]\n",
    "            ### [\"sara\", \"shackleton\", \"chris\", \"germani\"]\n",
    "            for w in text:\n",
    "                if w in replacewords:\n",
    "                    text.replace(w,\"\")\n",
    "            ### append the text to word_data\n",
    "            word_data.append(text)\n",
    "            ### append a 0 to from_data if email is from Sara, and 1 if email is from Chris\n",
    "            for f in from_data:\n",
    "                if (f==\"Sara\"):\n",
    "                    from_data.append(0)\n",
    "                elif (f==\"Chris\"):\n",
    "                    from_data.append(1)\n",
    "            \n",
    "            email.close()\n",
    "\n",
    "print \"emails processed\"\n",
    "from_sara.close()\n",
    "from_chris.close()\n",
    "\n",
    "pickle.dump( word_data, open(\"your_word_data.pkl\", \"w\") )\n",
    "pickle.dump( from_data, open(\"your_email_authors.pkl\", \"w\") )\n",
    "\n",
    "\n",
    "\n",
    "print(\"the word at 152 is:\", word_data[152])\n",
    "\n",
    "### in Part 4, do TfIdf vectorization here\n",
    "\n",
    "\n"
   ]
  },
  {
   "cell_type": "code",
   "execution_count": 24,
   "metadata": {
    "collapsed": true
   },
   "outputs": [],
   "source": [
    "replacewords= [\"sara\", \"shackleton\", \"chris\", \"germani\"]\n",
    "text=[\"sra\", \"shon\", \"cis\", \"germani\"]"
   ]
  },
  {
   "cell_type": "code",
   "execution_count": null,
   "metadata": {},
   "outputs": [],
   "source": []
  },
  {
   "cell_type": "code",
   "execution_count": null,
   "metadata": {},
   "outputs": [],
   "source": [
    "for w in text:\n",
    "    if w in replacewords:\n",
    "        print \"a\"\n",
    "    else:\n",
    "        print\"b\"\n",
    "    "
   ]
  },
  {
   "cell_type": "code",
   "execution_count": null,
   "metadata": {
    "collapsed": true
   },
   "outputs": [],
   "source": []
  },
  {
   "cell_type": "code",
   "execution_count": null,
   "metadata": {},
   "outputs": [],
   "source": [
    "#!/usr/bin/python\n",
    "\n",
    "import os\n",
    "import sys\n",
    "sys.path.append( \"../tools/\" )\n",
    "import pickle\n",
    "from parse_out_email_text import parseOutTextFromEmailFile\n",
    "\n",
    "\"\"\"\n",
    "  Starter code to process the emails from Sara and Chris to extract\n",
    "  the features and get the documents ready for classification.\n",
    "\n",
    "  The list of all the emails from Sara are in the from_sara list\n",
    "  likewise for emails from Chris (from_chris)\n",
    "\n",
    "  The actual documents are in the Enron email dataset, which\n",
    "  you downloaded/unpacked in Part 0 of the first mini-project. If you have\n",
    "  not obtained the Enron email corpus, run startup.py in the tools folder.\n",
    "\n",
    "  The data is stored in lists and packed away in pickle files at the end.\n",
    "\"\"\"\n",
    "\n",
    "from_sara  = open(file_location + \"from_sara.txt\", \"r\")\n",
    "from_chris = open(file_location + \"from_chris.txt\", \"r\")\n",
    "\n",
    "from_data = []\n",
    "word_data = []\n",
    "\n",
    "temp_counter = 0\n",
    "for name, from_person in [(\"sara\", from_sara), (\"chris\", from_chris)]:\n",
    "\n",
    "    for path in from_person:\n",
    "        \n",
    "        if temp_counter < 200:\n",
    "\n",
    "            path = os.path.join('..', path[:-1])\n",
    "\n",
    "            with open(path, 'r') as email:\n",
    "\n",
    "                ### use parseOutText to extract the text from the opened email\n",
    "                text = parseOutTextFromEmailFile(email)\n",
    "\n",
    "                ### use str.replace() to remove any instances of the words\n",
    "                ### [\"sara\", \"shackleton\", \"chris\", \"germani\"]\n",
    "                replaceWords = [\"sara\", \"shackleton\", \"chris\", \"germani\"]\n",
    "                \n",
    "                for w in replaceWords:\n",
    "                    text = text.replace(w, \"\")\n",
    "\n",
    "                ### append the text to word_data\n",
    "                word_data.append(text.replace('\\n',' ').strip())\n",
    "\n",
    "                ### append a 0 to from_data if email is from Sara, and 1 if email is from Chris\n",
    "                from_data.append(0 if name == \"sara\" else 1)\n",
    "\n",
    "print (\"emails processed\")\n",
    "\n",
    "# pickle.dump( word_data, open(\"your_word_data.pkl\", \"wb\") )\n",
    "# pickle.dump( from_data, open(\"your_email_authors.pkl\", \"wb\") )\n",
    "\n",
    "print(\"the word at 152 is:\", word_data[152])"
   ]
  },
  {
   "cell_type": "code",
   "execution_count": null,
   "metadata": {},
   "outputs": [],
   "source": [
    "#!/usr/bin/python\n",
    "\n",
    "import os\n",
    "import pickle\n",
    "import re\n",
    "import sys\n",
    "\n",
    "sys.path.append( \"../tools/\" )\n",
    "from parse_out_email_text import parseOutText\n",
    "from sklearn.feature_extraction.text import TfidfVectorizer\n",
    "\n",
    "\"\"\"\n",
    "    Starter code to process the emails from Sara and Chris to extract\n",
    "    the features and get the documents ready for classification.\n",
    "    The list of all the emails from Sara are in the from_sara list\n",
    "    likewise for emails from Chris (from_chris)\n",
    "    The actual documents are in the Enron email dataset, which\n",
    "    you downloaded/unpacked in Part 0 of the first mini-project. If you have\n",
    "    not obtained the Enron email corpus, run startup.py in the tools folder.\n",
    "    The data is stored in lists and packed away in pickle files at the end.\n",
    "\"\"\"\n",
    "\n",
    "\n",
    "from_sara  = open(\"from_sara.txt\", \"r\")\n",
    "from_chris = open(\"from_chris.txt\", \"r\")\n",
    "\n",
    "from_data = []\n",
    "word_data = []\n",
    "\n",
    "### temp_counter is a way to speed up the development--there are\n",
    "### thousands of emails from Sara and Chris, so running over all of them\n",
    "### can take a long time\n",
    "### temp_counter helps you only look at the first 200 emails in the list so you\n",
    "### can iterate your modifications quicker\n",
    "temp_counter = 0\n",
    "sign_words = [\"sara\", \"shackleton\", \"chris\", \"germani\", \"sshacklensf\"]\n",
    "\n",
    "for name, from_person in [(\"sara\", from_sara), (\"chris\", from_chris)]:\n",
    "    for path in from_person:\n",
    "        ### only look at first 200 emails when developing\n",
    "        ### once everything is working, remove this line to run over full dataset\n",
    "        # temp_counter += 1\n",
    "        # if temp_counter < 200:\n",
    "        path = os.path.join('..', path[:-1])\n",
    "        print path\n",
    "        email = open(path, \"r\")\n",
    "\n",
    "        ### use parseOutText to extract the text from the opened email\n",
    "\n",
    "        text = parseOutText(email)\n",
    "        \n",
    "        for word in sign_words:\n",
    "            if word in text:\n",
    "                text = text.replace(word, \"\")\n",
    "\n",
    "        word_data.append(text.replace('\\n',' ').strip())\n",
    "        \n",
    "        if name == \"sara\":\n",
    "            from_data.append(\"0\")\n",
    "        else:\n",
    "            from_data.append(\"1\")\n",
    "            \n",
    "        ### use str.replace() to remove any instances of the words\n",
    "        ### [\"sara\", \"shackleton\", \"chris\", \"germani\"]\n",
    "\n",
    "        ### append the text to word_data\n",
    "\n",
    "        ### append a 0 to from_data if email is from Sara, and 1 if email is from Chris\n",
    "\n",
    "\n",
    "        email.close()\n",
    "\n",
    "print \"emails processed\"\n",
    "print word_data[152]\n",
    "from_sara.close()\n",
    "from_chris.close()\n",
    "\n",
    "pickle.dump( word_data, open(\"your_word_data.pkl\", \"w\") )\n",
    "pickle.dump( from_data, open(\"your_email_authors.pkl\", \"w\") )\n",
    "\n",
    "vectorizer = TfidfVectorizer(stop_words=\"english\", lowercase=True)\n",
    "vectorizer.fit_transform(word_data)\n",
    "feature_names =vectorizer.get_feature_names()\n",
    "print len(feature_names)\n",
    "print feature_names[34597]\n",
    "\n",
    "\n",
    "### in Part 4, do TfIdf vectorization here\n",
    "\n"
   ]
  },
  {
   "cell_type": "code",
   "execution_count": null,
   "metadata": {
    "collapsed": true
   },
   "outputs": [],
   "source": []
  }
 ],
 "metadata": {
  "kernelspec": {
   "display_name": "Python 2",
   "language": "python",
   "name": "python2"
  },
  "language_info": {
   "codemirror_mode": {
    "name": "ipython",
    "version": 2
   },
   "file_extension": ".py",
   "mimetype": "text/x-python",
   "name": "python",
   "nbconvert_exporter": "python",
   "pygments_lexer": "ipython2",
   "version": "2.7.13"
  }
 },
 "nbformat": 4,
 "nbformat_minor": 2
}
